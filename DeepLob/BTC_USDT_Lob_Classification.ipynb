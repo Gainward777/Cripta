{
  "cells": [
    {
      "cell_type": "markdown",
      "metadata": {
        "id": "lp91_8n70taX"
      },
      "source": [
        "# DeepLOB: Deep Convolutional Neural Networks for Limit Order Books\n",
        "\n",
        "### Authors: Zihao Zhang, Stefan Zohren and Stephen Roberts\n",
        "Oxford-Man Institute of Quantitative Finance, Department of Engineering Science, University of Oxford\n",
        "\n",
        "This jupyter notebook is used to demonstrate our recent paper [2] published in IEEE Transactions on Singal Processing. We use FI-2010 [1] dataset and present how model architecture is constructed here.\n",
        "\n",
        "### Data:\n",
        "The FI-2010 is publicly avilable and interested readers can check out their paper [1]. The dataset can be downloaded from: https://etsin.fairdata.fi/dataset/73eb48d7-4dbc-4a10-a52a-da745b47a649\n",
        "\n",
        "Otherwise, the notebook will download the data automatically or it can be obtained from:\n",
        "\n",
        "https://drive.google.com/drive/folders/1Xen3aRid9ZZhFqJRgEMyETNazk02cNmv?usp=sharing\n",
        "\n",
        "### References:\n",
        "[1] Ntakaris A, Magris M, Kanniainen J, Gabbouj M, Iosifidis A. Benchmark dataset for mid‐price forecasting of limit order book data with machine learning methods. Journal of Forecasting. 2018 Dec;37(8):852-66. https://arxiv.org/abs/1705.03233\n",
        "\n",
        "[2] Zhang Z, Zohren S, Roberts S. DeepLOB: Deep convolutional neural networks for limit order books. IEEE Transactions on Signal Processing. 2019 Mar 25;67(11):3001-12. https://arxiv.org/abs/1808.03668\n",
        "\n",
        "### This notebook runs on Pytorch 1.9.0."
      ],
      "id": "lp91_8n70taX"
    },
    {
      "cell_type": "code",
      "source": [
        "!gdown https://drive.google.com/uc?id=1J3bAEn7F17Da5OLxhD-9c2M_z2YPUaCo"
      ],
      "metadata": {
        "colab": {
          "base_uri": "https://localhost:8080/"
        },
        "id": "u68Ic-CnBKKj",
        "outputId": "3516693d-3613-46b6-ba9b-c2b39806337b"
      },
      "id": "u68Ic-CnBKKj",
      "execution_count": null,
      "outputs": [
        {
          "output_type": "stream",
          "name": "stdout",
          "text": [
            "Downloading...\n",
            "From (original): https://drive.google.com/uc?id=1J3bAEn7F17Da5OLxhD-9c2M_z2YPUaCo\n",
            "From (redirected): https://drive.google.com/uc?id=1J3bAEn7F17Da5OLxhD-9c2M_z2YPUaCo&confirm=t&uuid=870910e9-455d-4834-8d06-764752544671\n",
            "To: /content/01_05_2024_BTCUSDT_0100ms_300k.zip\n",
            "100% 108M/108M [00:00<00:00, 175MB/s]\n"
          ]
        }
      ]
    },
    {
      "cell_type": "code",
      "source": [
        "#06-07-2024\n",
        "!gdown https://drive.google.com/uc?id=1-7fMwrOURKnDoVeZFgRD8sD3YvsYGItn #https://drive.google.com/uc?id=1-Gm76n-6d3hixPj6-lWSeijlyxSu5fWV\n",
        "#11-13-2023\n",
        "!gdown https://drive.google.com/uc?id=1-JpxHhXzxH0gRP81ho1ZPwq7CpgM6rsI\n",
        "#01-05-2024\n",
        "!gdown https://drive.google.com/uc?id=1-7A84Vq5wKWr8BPZL18oh2T4WTeNb_Fr #1-LLJl0ScXZWad9VN6_5yXfeRDw749CKj"
      ],
      "metadata": {
        "colab": {
          "base_uri": "https://localhost:8080/"
        },
        "id": "usNgcdCl7f64",
        "outputId": "8b35f181-7b95-4069-9d74-19900e9c0c0f"
      },
      "id": "usNgcdCl7f64",
      "execution_count": null,
      "outputs": [
        {
          "output_type": "stream",
          "name": "stdout",
          "text": [
            "Downloading...\n",
            "From: https://drive.google.com/uc?id=1-7fMwrOURKnDoVeZFgRD8sD3YvsYGItn\n",
            "To: /content/06-07_2024_BTCUSDT_1min.zip\n",
            "100% 25.8M/25.8M [00:00<00:00, 41.0MB/s]\n",
            "Downloading...\n",
            "From (original): https://drive.google.com/uc?id=1-JpxHhXzxH0gRP81ho1ZPwq7CpgM6rsI\n",
            "From (redirected): https://drive.google.com/uc?id=1-JpxHhXzxH0gRP81ho1ZPwq7CpgM6rsI&confirm=t&uuid=9c1065b9-621a-4851-ab96-e7db85549143\n",
            "To: /content/11-12_2023_BTCUSDT_1min.zip\n",
            "100% 238M/238M [00:02<00:00, 106MB/s]\n",
            "Downloading...\n",
            "From (original): https://drive.google.com/uc?id=1-7A84Vq5wKWr8BPZL18oh2T4WTeNb_Fr\n",
            "From (redirected): https://drive.google.com/uc?id=1-7A84Vq5wKWr8BPZL18oh2T4WTeNb_Fr&confirm=t&uuid=679237f3-1004-4800-82a4-59d2d905b0a8\n",
            "To: /content/01-05_2023_BTCUSDT_1min.zip\n",
            "100% 92.5M/92.5M [00:02<00:00, 46.1MB/s]\n"
          ]
        }
      ]
    },
    {
      "cell_type": "code",
      "source": [
        "!unzip /content/01_05_2024_BTCUSDT_0100ms_300k.zip -d /content"
      ],
      "metadata": {
        "colab": {
          "base_uri": "https://localhost:8080/"
        },
        "id": "BC4if-_BBRVB",
        "outputId": "a7e70e34-ea1c-4250-8825-5b6dd7432f3b"
      },
      "id": "BC4if-_BBRVB",
      "execution_count": null,
      "outputs": [
        {
          "output_type": "stream",
          "name": "stdout",
          "text": [
            "Archive:  /content/01_05_2024_BTCUSDT_0100ms_300k.zip\n",
            "   creating: /content/content/01.05.2024/\n",
            "  inflating: /content/content/01.05.2024/01_05_2024_BTCUSDT_0100ms_300k_LBLS.npy  \n",
            "   creating: /content/content/01.05.2024/.ipynb_checkpoints/\n",
            "  inflating: /content/content/01.05.2024/01_05_2024_BTCUSDT_0100ms_300k_DATA.npy  \n",
            "  inflating: /content/content/01.05.2024/01_05_2024_BTCUSDT_0100ms_300k_MID_PRICES.npy  \n"
          ]
        }
      ]
    },
    {
      "cell_type": "code",
      "source": [
        "!mkdir /content/Train\n",
        "!mkdir /content/Test\n",
        "\n",
        "!unzip /content/06_07_2024_BTCUSDT_1min.zip -d /content/Test #if cannot open just create new cell with this line an run it...\n",
        "!unzip /content/11-12_2023_BTCUSDT_1min.zip -d /content/Test\n",
        "!unzip /content/01-05_2024_BTCUSDT_1min.zip -d /content/Train"
      ],
      "metadata": {
        "id": "D1wIlTzOAr8O"
      },
      "id": "D1wIlTzOAr8O",
      "execution_count": null,
      "outputs": []
    },
    {
      "cell_type": "code",
      "source": [
        "!pip install torchinfo"
      ],
      "metadata": {
        "colab": {
          "base_uri": "https://localhost:8080/"
        },
        "id": "MJhTzfKt2jDq",
        "outputId": "9a79ae90-00f2-448b-e34f-e0783de9cb5d"
      },
      "id": "MJhTzfKt2jDq",
      "execution_count": null,
      "outputs": [
        {
          "output_type": "stream",
          "name": "stdout",
          "text": [
            "Collecting torchinfo\n",
            "  Downloading torchinfo-1.8.0-py3-none-any.whl.metadata (21 kB)\n",
            "Downloading torchinfo-1.8.0-py3-none-any.whl (23 kB)\n",
            "Installing collected packages: torchinfo\n",
            "Successfully installed torchinfo-1.8.0\n"
          ]
        }
      ]
    },
    {
      "cell_type": "code",
      "execution_count": null,
      "metadata": {
        "id": "BzYQR8-40tam"
      },
      "outputs": [],
      "source": [
        "# load packages\n",
        "import pandas as pd\n",
        "import pickle\n",
        "import numpy as np\n",
        "import matplotlib.pyplot as plt\n",
        "from datetime import datetime\n",
        "from tqdm import tqdm\n",
        "from sklearn.metrics import accuracy_score, classification_report\n",
        "\n",
        "from torch.utils.data import Dataset, DataLoader, TensorDataset\n",
        "\n",
        "import torch\n",
        "import torch.nn.functional as F\n",
        "from torch.utils import data\n",
        "from torchinfo import summary\n",
        "import torch.nn as nn\n",
        "import torch.optim as optim\n",
        "# from sklearn.model_selection import train_test_split\n",
        "# X_train, X_test, y_train, y_test = train_test_split(data.data, data.target, test_size=0.33)\n",
        "# N, D = X_train.shape"
      ],
      "id": "BzYQR8-40tam"
    },
    {
      "cell_type": "code",
      "execution_count": null,
      "metadata": {
        "colab": {
          "base_uri": "https://localhost:8080/"
        },
        "id": "QqQwI8zb0tao",
        "outputId": "dbc01acf-536c-4d2c-d970-4f4c24c82305"
      },
      "outputs": [
        {
          "output_type": "stream",
          "name": "stdout",
          "text": [
            "cuda:0\n"
          ]
        }
      ],
      "source": [
        "device = torch.device(\"cuda:0\" if torch.cuda.is_available() else \"cpu\")\n",
        "print(device)"
      ],
      "id": "QqQwI8zb0tao"
    },
    {
      "cell_type": "markdown",
      "metadata": {
        "id": "beakZD0A0tat"
      },
      "source": [
        "# Data preparation\n",
        "\n",
        "We used no auction dataset that is normalised by decimal precision approach in their work. The first seven days are training data and the last three days are testing data. A validation set (20%) from the training set is used to monitor the overfitting behaviours.  \n",
        "\n",
        "The first 40 columns of the FI-2010 dataset are 10 levels ask and bid information for a limit order book and we only use these 40 features in our network. The last 5 columns of the FI-2010 dataset are the labels with different prediction horizons."
      ],
      "id": "beakZD0A0tat"
    },
    {
      "cell_type": "code",
      "source": [
        "data=np.expand_dims(np.load('/content/content/01.05.2024/01_05_2024_BTCUSDT_0100ms_300k_DATA.npy'), axis=1)\n",
        "lbls=np.load('/content/content/01.05.2024/01_05_2024_BTCUSDT_0100ms_300k_LBLS.npy')\n",
        "data.shape, lbls.shape"
      ],
      "metadata": {
        "colab": {
          "base_uri": "https://localhost:8080/"
        },
        "id": "LckXsz9YBuwa",
        "outputId": "d710985a-0db1-49f8-e2c0-ffca3de0d313"
      },
      "id": "LckXsz9YBuwa",
      "execution_count": null,
      "outputs": [
        {
          "output_type": "execute_result",
          "data": {
            "text/plain": [
              "((300566, 1, 100, 40), (300560,))"
            ]
          },
          "metadata": {},
          "execution_count": 10
        }
      ]
    },
    {
      "cell_type": "code",
      "source": [
        "train_data, val_data=data[:int(data.shape[0] * 0.7),:,:,:], data[int(data.shape[0] * 0.7):,:,:,:]\n",
        "train_lbls, val_lbls = lbls[:int(lbls.shape[0] * 0.7)], lbls[int(lbls.shape[0] * 0.7):]\n",
        "train_data.shape, train_lbls.shape, val_data.shape, val_lbls.shape"
      ],
      "metadata": {
        "colab": {
          "base_uri": "https://localhost:8080/"
        },
        "id": "_U6ANe64B-yC",
        "outputId": "60a38e23-62b3-4146-e3f8-e02771d0f5cc"
      },
      "id": "_U6ANe64B-yC",
      "execution_count": null,
      "outputs": [
        {
          "output_type": "execute_result",
          "data": {
            "text/plain": [
              "((210396, 1, 100, 40), (210392,), (90170, 1, 100, 40), (90168,))"
            ]
          },
          "metadata": {},
          "execution_count": 14
        }
      ]
    },
    {
      "cell_type": "code",
      "source": [
        "val_data=np.expand_dims(np.load('/content/Test/content/2024/06-07_2024_BTCUSDT_1m_DATA.npy'), axis=1)\n",
        "val_lbls=np.load('/content/Test/content/2024/06-07_2024_BTCUSDT_1m_LBLS.npy')\n",
        "train_data=np.expand_dims(np.load('/content/Train/content/2024/01-05_2024_BTCUSDT_1m_DATA.npy'), axis=1)\n",
        "train_lbls=np.load('/content/Train/content/2024/01-05_2024_BTCUSDT_1m_LBLS.npy')\n",
        "val_data[:val_lbls.shape[0]].shape, val_lbls.shape"
      ],
      "metadata": {
        "id": "MmDFZwRYDjA9"
      },
      "id": "MmDFZwRYDjA9",
      "execution_count": null,
      "outputs": []
    },
    {
      "cell_type": "code",
      "source": [
        "\"\"\"\n",
        "train_data=train_data[:train_lbls.shape[0]]\n",
        "train_data=train_data[:int(train_data.shape[0] * 0.8),:,:,:]\n",
        "train_lbls=train_lbls[:int(train_lbls.shape[0] * 0.8)]\n",
        "val_data=train_data[int(train_data.shape[0] * 0.8):,:,:,:]\n",
        "val_lbls=train_lbls[int(train_lbls.shape[0] * 0.8):]\n",
        "train_data.shape, train_lbls.shape, val_data.shape, val_lbls.shape\n",
        "\"\"\""
      ],
      "metadata": {
        "id": "qB2bYJBQbPX0"
      },
      "id": "qB2bYJBQbPX0",
      "execution_count": null,
      "outputs": []
    },
    {
      "cell_type": "code",
      "source": [
        "batch_size=64\n",
        "\n",
        "train_loader=DataLoader(TensorDataset(torch.tensor(train_data[:train_lbls.shape[0]], dtype=torch.float32),\n",
        "                                      torch.tensor(train_lbls, dtype=torch.float32)),\n",
        "                                      shuffle=True, batch_size=batch_size, drop_last=True)\n",
        "val_loader=DataLoader(TensorDataset(torch.tensor(val_data[:val_lbls.shape[0]],dtype=torch.float32),\n",
        "                                    torch.tensor(val_lbls, dtype=torch.float32)),\n",
        "                                    batch_size=batch_size, shuffle=False) #drop_last=True)"
      ],
      "metadata": {
        "id": "sqSEco9ED7Mp"
      },
      "id": "sqSEco9ED7Mp",
      "execution_count": null,
      "outputs": []
    },
    {
      "cell_type": "code",
      "source": [
        "x,y=next(iter(val_loader))\n",
        "x.shape, y.shape"
      ],
      "metadata": {
        "colab": {
          "base_uri": "https://localhost:8080/"
        },
        "id": "CYFBQX4oePj9",
        "outputId": "7b15ee99-b8db-4841-d00f-2e3e1bd73415"
      },
      "id": "CYFBQX4oePj9",
      "execution_count": null,
      "outputs": [
        {
          "output_type": "execute_result",
          "data": {
            "text/plain": [
              "(torch.Size([64, 1, 100, 40]), torch.Size([64]))"
            ]
          },
          "metadata": {},
          "execution_count": 16
        }
      ]
    },
    {
      "cell_type": "markdown",
      "metadata": {
        "id": "syHnIkuO0taz"
      },
      "source": [
        "# Model Architecture\n",
        "\n",
        "Please find the detailed discussion of our model architecture in our paper."
      ],
      "id": "syHnIkuO0taz"
    },
    {
      "cell_type": "code",
      "execution_count": null,
      "metadata": {
        "id": "dgyYo7Vp0ta0"
      },
      "outputs": [],
      "source": [
        "class deeplob(nn.Module):\n",
        "    def __init__(self, y_len):\n",
        "        super().__init__()\n",
        "        self.y_len = y_len\n",
        "\n",
        "        # convolution blocks\n",
        "        self.conv1 = nn.Sequential(\n",
        "            nn.Conv2d(in_channels=1, out_channels=32, kernel_size=(1,2), stride=(1,2)),\n",
        "            nn.LeakyReLU(negative_slope=0.01),\n",
        "#             nn.Tanh(),\n",
        "            nn.BatchNorm2d(32),\n",
        "            nn.Conv2d(in_channels=32, out_channels=32, kernel_size=(4,1)),\n",
        "            nn.LeakyReLU(negative_slope=0.01),\n",
        "            nn.BatchNorm2d(32),\n",
        "            nn.Conv2d(in_channels=32, out_channels=32, kernel_size=(4,1)),\n",
        "            nn.LeakyReLU(negative_slope=0.01),\n",
        "            nn.BatchNorm2d(32),\n",
        "        )\n",
        "        self.conv2 = nn.Sequential(\n",
        "            nn.Conv2d(in_channels=32, out_channels=32, kernel_size=(1,2), stride=(1,2)),\n",
        "            nn.Tanh(),\n",
        "            nn.BatchNorm2d(32),\n",
        "            nn.Conv2d(in_channels=32, out_channels=32, kernel_size=(4,1)),\n",
        "            nn.Tanh(),\n",
        "            nn.BatchNorm2d(32),\n",
        "            nn.Conv2d(in_channels=32, out_channels=32, kernel_size=(4,1)),\n",
        "            nn.Tanh(),\n",
        "            nn.BatchNorm2d(32),\n",
        "        )\n",
        "        self.conv3 = nn.Sequential(\n",
        "            nn.Conv2d(in_channels=32, out_channels=32, kernel_size=(1,10)),\n",
        "            nn.LeakyReLU(negative_slope=0.01),\n",
        "            nn.BatchNorm2d(32),\n",
        "            nn.Conv2d(in_channels=32, out_channels=32, kernel_size=(4,1)),\n",
        "            nn.LeakyReLU(negative_slope=0.01),\n",
        "            nn.BatchNorm2d(32),\n",
        "            nn.Conv2d(in_channels=32, out_channels=32, kernel_size=(4,1)),\n",
        "            nn.LeakyReLU(negative_slope=0.01),\n",
        "            nn.BatchNorm2d(32),\n",
        "        )\n",
        "\n",
        "        # inception moduels\n",
        "        self.inp1 = nn.Sequential(\n",
        "            nn.Conv2d(in_channels=32, out_channels=64, kernel_size=(1,1), padding='same'),\n",
        "            nn.LeakyReLU(negative_slope=0.01),\n",
        "            nn.BatchNorm2d(64),\n",
        "            nn.Conv2d(in_channels=64, out_channels=64, kernel_size=(3,1), padding='same'),\n",
        "            nn.LeakyReLU(negative_slope=0.01),\n",
        "            nn.BatchNorm2d(64),\n",
        "        )\n",
        "        self.inp2 = nn.Sequential(\n",
        "            nn.Conv2d(in_channels=32, out_channels=64, kernel_size=(1,1), padding='same'),\n",
        "            nn.LeakyReLU(negative_slope=0.01),\n",
        "            nn.BatchNorm2d(64),\n",
        "            nn.Conv2d(in_channels=64, out_channels=64, kernel_size=(5,1), padding='same'),\n",
        "            nn.LeakyReLU(negative_slope=0.01),\n",
        "            nn.BatchNorm2d(64),\n",
        "        )\n",
        "        self.inp3 = nn.Sequential(\n",
        "            nn.MaxPool2d((3, 1), stride=(1, 1), padding=(1, 0)),\n",
        "            nn.Conv2d(in_channels=32, out_channels=64, kernel_size=(1,1), padding='same'),\n",
        "            nn.LeakyReLU(negative_slope=0.01),\n",
        "            nn.BatchNorm2d(64),\n",
        "        )\n",
        "\n",
        "        # lstm layers\n",
        "        self.lstm = nn.LSTM(input_size=192, hidden_size=64, num_layers=1, batch_first=True)\n",
        "        self.fc1 = nn.Linear(64, self.y_len)\n",
        "\n",
        "    def forward(self, x):\n",
        "        # h0: (number of hidden layers, batch size, hidden size)\n",
        "        h0 = torch.zeros(1, x.size(0), 64).to(device)\n",
        "        c0 = torch.zeros(1, x.size(0), 64).to(device)\n",
        "\n",
        "        x = self.conv1(x)\n",
        "        x = self.conv2(x)\n",
        "        x = self.conv3(x)\n",
        "\n",
        "        x_inp1 = self.inp1(x)\n",
        "        x_inp2 = self.inp2(x)\n",
        "        x_inp3 = self.inp3(x)\n",
        "\n",
        "        x = torch.cat((x_inp1, x_inp2, x_inp3), dim=1)\n",
        "\n",
        "#         x = torch.transpose(x, 1, 2)\n",
        "        x = x.permute(0, 2, 1, 3)\n",
        "        x = torch.reshape(x, (-1, x.shape[1], x.shape[2]))\n",
        "\n",
        "        x, _ = self.lstm(x, (h0, c0))\n",
        "        x = x[:, -1, :]\n",
        "        x = self.fc1(x)\n",
        "        forecast_y = torch.softmax(x, dim=1)\n",
        "\n",
        "        return forecast_y"
      ],
      "id": "dgyYo7Vp0ta0"
    },
    {
      "cell_type": "code",
      "execution_count": null,
      "metadata": {
        "scrolled": true,
        "id": "-p2OiuUb0ta1",
        "outputId": "1aa10978-08e1-45c9-9dd2-eb6a09f4bdc5",
        "colab": {
          "base_uri": "https://localhost:8080/"
        }
      },
      "outputs": [
        {
          "output_type": "execute_result",
          "data": {
            "text/plain": [
              "deeplob(\n",
              "  (conv1): Sequential(\n",
              "    (0): Conv2d(1, 32, kernel_size=(1, 2), stride=(1, 2))\n",
              "    (1): LeakyReLU(negative_slope=0.01)\n",
              "    (2): BatchNorm2d(32, eps=1e-05, momentum=0.1, affine=True, track_running_stats=True)\n",
              "    (3): Conv2d(32, 32, kernel_size=(4, 1), stride=(1, 1))\n",
              "    (4): LeakyReLU(negative_slope=0.01)\n",
              "    (5): BatchNorm2d(32, eps=1e-05, momentum=0.1, affine=True, track_running_stats=True)\n",
              "    (6): Conv2d(32, 32, kernel_size=(4, 1), stride=(1, 1))\n",
              "    (7): LeakyReLU(negative_slope=0.01)\n",
              "    (8): BatchNorm2d(32, eps=1e-05, momentum=0.1, affine=True, track_running_stats=True)\n",
              "  )\n",
              "  (conv2): Sequential(\n",
              "    (0): Conv2d(32, 32, kernel_size=(1, 2), stride=(1, 2))\n",
              "    (1): Tanh()\n",
              "    (2): BatchNorm2d(32, eps=1e-05, momentum=0.1, affine=True, track_running_stats=True)\n",
              "    (3): Conv2d(32, 32, kernel_size=(4, 1), stride=(1, 1))\n",
              "    (4): Tanh()\n",
              "    (5): BatchNorm2d(32, eps=1e-05, momentum=0.1, affine=True, track_running_stats=True)\n",
              "    (6): Conv2d(32, 32, kernel_size=(4, 1), stride=(1, 1))\n",
              "    (7): Tanh()\n",
              "    (8): BatchNorm2d(32, eps=1e-05, momentum=0.1, affine=True, track_running_stats=True)\n",
              "  )\n",
              "  (conv3): Sequential(\n",
              "    (0): Conv2d(32, 32, kernel_size=(1, 10), stride=(1, 1))\n",
              "    (1): LeakyReLU(negative_slope=0.01)\n",
              "    (2): BatchNorm2d(32, eps=1e-05, momentum=0.1, affine=True, track_running_stats=True)\n",
              "    (3): Conv2d(32, 32, kernel_size=(4, 1), stride=(1, 1))\n",
              "    (4): LeakyReLU(negative_slope=0.01)\n",
              "    (5): BatchNorm2d(32, eps=1e-05, momentum=0.1, affine=True, track_running_stats=True)\n",
              "    (6): Conv2d(32, 32, kernel_size=(4, 1), stride=(1, 1))\n",
              "    (7): LeakyReLU(negative_slope=0.01)\n",
              "    (8): BatchNorm2d(32, eps=1e-05, momentum=0.1, affine=True, track_running_stats=True)\n",
              "  )\n",
              "  (inp1): Sequential(\n",
              "    (0): Conv2d(32, 64, kernel_size=(1, 1), stride=(1, 1), padding=same)\n",
              "    (1): LeakyReLU(negative_slope=0.01)\n",
              "    (2): BatchNorm2d(64, eps=1e-05, momentum=0.1, affine=True, track_running_stats=True)\n",
              "    (3): Conv2d(64, 64, kernel_size=(3, 1), stride=(1, 1), padding=same)\n",
              "    (4): LeakyReLU(negative_slope=0.01)\n",
              "    (5): BatchNorm2d(64, eps=1e-05, momentum=0.1, affine=True, track_running_stats=True)\n",
              "  )\n",
              "  (inp2): Sequential(\n",
              "    (0): Conv2d(32, 64, kernel_size=(1, 1), stride=(1, 1), padding=same)\n",
              "    (1): LeakyReLU(negative_slope=0.01)\n",
              "    (2): BatchNorm2d(64, eps=1e-05, momentum=0.1, affine=True, track_running_stats=True)\n",
              "    (3): Conv2d(64, 64, kernel_size=(5, 1), stride=(1, 1), padding=same)\n",
              "    (4): LeakyReLU(negative_slope=0.01)\n",
              "    (5): BatchNorm2d(64, eps=1e-05, momentum=0.1, affine=True, track_running_stats=True)\n",
              "  )\n",
              "  (inp3): Sequential(\n",
              "    (0): MaxPool2d(kernel_size=(3, 1), stride=(1, 1), padding=(1, 0), dilation=1, ceil_mode=False)\n",
              "    (1): Conv2d(32, 64, kernel_size=(1, 1), stride=(1, 1), padding=same)\n",
              "    (2): LeakyReLU(negative_slope=0.01)\n",
              "    (3): BatchNorm2d(64, eps=1e-05, momentum=0.1, affine=True, track_running_stats=True)\n",
              "  )\n",
              "  (lstm): LSTM(192, 64, batch_first=True)\n",
              "  (fc1): Linear(in_features=64, out_features=3, bias=True)\n",
              ")"
            ]
          },
          "metadata": {},
          "execution_count": 18
        }
      ],
      "source": [
        "model = deeplob(y_len = 3)\n",
        "model.to(device)"
      ],
      "id": "-p2OiuUb0ta1"
    },
    {
      "cell_type": "code",
      "execution_count": null,
      "metadata": {
        "scrolled": true,
        "id": "Y-vuxbnT0ta2",
        "outputId": "dc0238f8-e4bf-43d0-9f55-b58a32286a34",
        "colab": {
          "base_uri": "https://localhost:8080/"
        }
      },
      "outputs": [
        {
          "output_type": "execute_result",
          "data": {
            "text/plain": [
              "==========================================================================================\n",
              "Layer (type:depth-idx)                   Output Shape              Param #\n",
              "==========================================================================================\n",
              "deeplob                                  [1, 3]                    --\n",
              "├─Sequential: 1-1                        [1, 32, 94, 20]           --\n",
              "│    └─Conv2d: 2-1                       [1, 32, 100, 20]          96\n",
              "│    └─LeakyReLU: 2-2                    [1, 32, 100, 20]          --\n",
              "│    └─BatchNorm2d: 2-3                  [1, 32, 100, 20]          64\n",
              "│    └─Conv2d: 2-4                       [1, 32, 97, 20]           4,128\n",
              "│    └─LeakyReLU: 2-5                    [1, 32, 97, 20]           --\n",
              "│    └─BatchNorm2d: 2-6                  [1, 32, 97, 20]           64\n",
              "│    └─Conv2d: 2-7                       [1, 32, 94, 20]           4,128\n",
              "│    └─LeakyReLU: 2-8                    [1, 32, 94, 20]           --\n",
              "│    └─BatchNorm2d: 2-9                  [1, 32, 94, 20]           64\n",
              "├─Sequential: 1-2                        [1, 32, 88, 10]           --\n",
              "│    └─Conv2d: 2-10                      [1, 32, 94, 10]           2,080\n",
              "│    └─Tanh: 2-11                        [1, 32, 94, 10]           --\n",
              "│    └─BatchNorm2d: 2-12                 [1, 32, 94, 10]           64\n",
              "│    └─Conv2d: 2-13                      [1, 32, 91, 10]           4,128\n",
              "│    └─Tanh: 2-14                        [1, 32, 91, 10]           --\n",
              "│    └─BatchNorm2d: 2-15                 [1, 32, 91, 10]           64\n",
              "│    └─Conv2d: 2-16                      [1, 32, 88, 10]           4,128\n",
              "│    └─Tanh: 2-17                        [1, 32, 88, 10]           --\n",
              "│    └─BatchNorm2d: 2-18                 [1, 32, 88, 10]           64\n",
              "├─Sequential: 1-3                        [1, 32, 82, 1]            --\n",
              "│    └─Conv2d: 2-19                      [1, 32, 88, 1]            10,272\n",
              "│    └─LeakyReLU: 2-20                   [1, 32, 88, 1]            --\n",
              "│    └─BatchNorm2d: 2-21                 [1, 32, 88, 1]            64\n",
              "│    └─Conv2d: 2-22                      [1, 32, 85, 1]            4,128\n",
              "│    └─LeakyReLU: 2-23                   [1, 32, 85, 1]            --\n",
              "│    └─BatchNorm2d: 2-24                 [1, 32, 85, 1]            64\n",
              "│    └─Conv2d: 2-25                      [1, 32, 82, 1]            4,128\n",
              "│    └─LeakyReLU: 2-26                   [1, 32, 82, 1]            --\n",
              "│    └─BatchNorm2d: 2-27                 [1, 32, 82, 1]            64\n",
              "├─Sequential: 1-4                        [1, 64, 82, 1]            --\n",
              "│    └─Conv2d: 2-28                      [1, 64, 82, 1]            2,112\n",
              "│    └─LeakyReLU: 2-29                   [1, 64, 82, 1]            --\n",
              "│    └─BatchNorm2d: 2-30                 [1, 64, 82, 1]            128\n",
              "│    └─Conv2d: 2-31                      [1, 64, 82, 1]            12,352\n",
              "│    └─LeakyReLU: 2-32                   [1, 64, 82, 1]            --\n",
              "│    └─BatchNorm2d: 2-33                 [1, 64, 82, 1]            128\n",
              "├─Sequential: 1-5                        [1, 64, 82, 1]            --\n",
              "│    └─Conv2d: 2-34                      [1, 64, 82, 1]            2,112\n",
              "│    └─LeakyReLU: 2-35                   [1, 64, 82, 1]            --\n",
              "│    └─BatchNorm2d: 2-36                 [1, 64, 82, 1]            128\n",
              "│    └─Conv2d: 2-37                      [1, 64, 82, 1]            20,544\n",
              "│    └─LeakyReLU: 2-38                   [1, 64, 82, 1]            --\n",
              "│    └─BatchNorm2d: 2-39                 [1, 64, 82, 1]            128\n",
              "├─Sequential: 1-6                        [1, 64, 82, 1]            --\n",
              "│    └─MaxPool2d: 2-40                   [1, 32, 82, 1]            --\n",
              "│    └─Conv2d: 2-41                      [1, 64, 82, 1]            2,112\n",
              "│    └─LeakyReLU: 2-42                   [1, 64, 82, 1]            --\n",
              "│    └─BatchNorm2d: 2-43                 [1, 64, 82, 1]            128\n",
              "├─LSTM: 1-7                              [1, 82, 64]               66,048\n",
              "├─Linear: 1-8                            [1, 3]                    195\n",
              "==========================================================================================\n",
              "Total params: 143,907\n",
              "Trainable params: 143,907\n",
              "Non-trainable params: 0\n",
              "Total mult-adds (M): 35.53\n",
              "==========================================================================================\n",
              "Input size (MB): 0.02\n",
              "Forward/backward pass size (MB): 4.97\n",
              "Params size (MB): 0.58\n",
              "Estimated Total Size (MB): 5.56\n",
              "=========================================================================================="
            ]
          },
          "metadata": {},
          "execution_count": 18
        }
      ],
      "source": [
        "summary(model, (1, 1, 100, 40))"
      ],
      "id": "Y-vuxbnT0ta2"
    },
    {
      "cell_type": "code",
      "execution_count": null,
      "metadata": {
        "id": "uXZXlTuX0ta3"
      },
      "outputs": [],
      "source": [
        "criterion = nn.CrossEntropyLoss()\n",
        "optimizer = torch.optim.Adam(model.parameters(), lr=0.0001)"
      ],
      "id": "uXZXlTuX0ta3"
    },
    {
      "cell_type": "markdown",
      "metadata": {
        "id": "YFabHZof0ta3"
      },
      "source": [
        "# Model Training\n"
      ],
      "id": "YFabHZof0ta3"
    },
    {
      "cell_type": "code",
      "execution_count": null,
      "metadata": {
        "id": "q25bIqWU0ta4"
      },
      "outputs": [],
      "source": [
        "# A function to encapsulate the training loop\n",
        "def batch_gd(model, criterion, optimizer, train_loader, test_loader, epochs):\n",
        "\n",
        "    train_losses = np.zeros(epochs)\n",
        "    test_losses = np.zeros(epochs)\n",
        "    best_test_loss = np.inf\n",
        "    best_test_epoch = 0\n",
        "\n",
        "    for it in tqdm(range(epochs)):\n",
        "\n",
        "        model.train()\n",
        "        t0 = datetime.now()\n",
        "        train_loss = []\n",
        "        for inputs, targets in train_loader:\n",
        "            # move data to GPU\n",
        "            inputs, targets = inputs.to(device, dtype=torch.float), targets.to(device, dtype=torch.int64)\n",
        "            # print(\"inputs.shape:\", inputs.shape)\n",
        "            # zero the parameter gradients\n",
        "            optimizer.zero_grad()\n",
        "            # Forward pass\n",
        "            # print(\"about to get model output\")\n",
        "            outputs = model(inputs)\n",
        "            # print(\"done getting model output\")\n",
        "            # print(\"outputs.shape:\", outputs.shape, \"targets.shape:\", targets.shape)\n",
        "            loss = criterion(outputs, targets)\n",
        "            # Backward and optimize\n",
        "            # print(\"about to optimize\")\n",
        "            loss.backward()\n",
        "            optimizer.step()\n",
        "            train_loss.append(loss.item())\n",
        "        # Get train loss and test loss\n",
        "        train_loss = np.mean(train_loss) # a little misleading\n",
        "\n",
        "        model.eval()\n",
        "        test_loss = []\n",
        "        for inputs, targets in test_loader:\n",
        "            inputs, targets = inputs.to(device, dtype=torch.float), targets.to(device, dtype=torch.int64)\n",
        "            outputs = model(inputs)\n",
        "            loss = criterion(outputs, targets)\n",
        "            test_loss.append(loss.item())\n",
        "        test_loss = np.mean(test_loss)\n",
        "\n",
        "        # Save losses\n",
        "        train_losses[it] = train_loss\n",
        "        test_losses[it] = test_loss\n",
        "\n",
        "        if test_loss < best_test_loss:\n",
        "            torch.save(model, './best_val_model_pytorch')\n",
        "            best_test_loss = test_loss\n",
        "            best_test_epoch = it\n",
        "            print('model saved')\n",
        "\n",
        "        dt = datetime.now() - t0\n",
        "        print(f'Epoch {it+1}/{epochs}, Train Loss: {train_loss:.4f}, \\\n",
        "          Validation Loss: {test_loss:.4f}, Duration: {dt}, Best Val Epoch: {best_test_epoch}')\n",
        "\n",
        "    return train_losses, test_losses"
      ],
      "id": "q25bIqWU0ta4"
    },
    {
      "cell_type": "code",
      "execution_count": null,
      "metadata": {
        "scrolled": true,
        "id": "lU83newH0tbT",
        "outputId": "edd8a61e-b7ea-49b2-c2d8-1befd3ad46a1",
        "colab": {
          "base_uri": "https://localhost:8080/"
        }
      },
      "outputs": [
        {
          "output_type": "stream",
          "name": "stderr",
          "text": [
            "  2%|▏         | 1/50 [01:29<1:13:15, 89.70s/it]"
          ]
        },
        {
          "output_type": "stream",
          "name": "stdout",
          "text": [
            "model saved\n",
            "Epoch 1/50, Train Loss: 0.9938,           Validation Loss: 1.0305, Duration: 0:01:29.697616, Best Val Epoch: 0\n"
          ]
        },
        {
          "output_type": "stream",
          "name": "stderr",
          "text": [
            "\r  4%|▍         | 2/50 [03:00<1:12:30, 90.64s/it]"
          ]
        },
        {
          "output_type": "stream",
          "name": "stdout",
          "text": [
            "model saved\n",
            "Epoch 2/50, Train Loss: 0.9403,           Validation Loss: 1.0264, Duration: 0:01:31.295041, Best Val Epoch: 1\n"
          ]
        },
        {
          "output_type": "stream",
          "name": "stderr",
          "text": [
            "\r  6%|▌         | 3/50 [04:32<1:11:14, 90.95s/it]"
          ]
        },
        {
          "output_type": "stream",
          "name": "stdout",
          "text": [
            "Epoch 3/50, Train Loss: 0.9254,           Validation Loss: 1.0291, Duration: 0:01:31.312371, Best Val Epoch: 1\n"
          ]
        },
        {
          "output_type": "stream",
          "name": "stderr",
          "text": [
            "\r  8%|▊         | 4/50 [06:03<1:09:50, 91.11s/it]"
          ]
        },
        {
          "output_type": "stream",
          "name": "stdout",
          "text": [
            "Epoch 4/50, Train Loss: 0.9132,           Validation Loss: 1.0437, Duration: 0:01:31.354488, Best Val Epoch: 1\n"
          ]
        },
        {
          "output_type": "stream",
          "name": "stderr",
          "text": [
            "\r 10%|█         | 5/50 [07:34<1:08:22, 91.17s/it]"
          ]
        },
        {
          "output_type": "stream",
          "name": "stdout",
          "text": [
            "Epoch 5/50, Train Loss: 0.9014,           Validation Loss: 1.0347, Duration: 0:01:31.288452, Best Val Epoch: 1\n"
          ]
        },
        {
          "output_type": "stream",
          "name": "stderr",
          "text": [
            "\r 12%|█▏        | 6/50 [09:06<1:06:54, 91.25s/it]"
          ]
        },
        {
          "output_type": "stream",
          "name": "stdout",
          "text": [
            "Epoch 6/50, Train Loss: 0.8903,           Validation Loss: 1.0376, Duration: 0:01:31.383442, Best Val Epoch: 1\n"
          ]
        },
        {
          "output_type": "stream",
          "name": "stderr",
          "text": [
            "\r 14%|█▍        | 7/50 [10:37<1:05:26, 91.31s/it]"
          ]
        },
        {
          "output_type": "stream",
          "name": "stdout",
          "text": [
            "Epoch 7/50, Train Loss: 0.8806,           Validation Loss: 1.0485, Duration: 0:01:31.436262, Best Val Epoch: 1\n"
          ]
        },
        {
          "output_type": "stream",
          "name": "stderr",
          "text": [
            "\r 16%|█▌        | 8/50 [12:09<1:03:56, 91.34s/it]"
          ]
        },
        {
          "output_type": "stream",
          "name": "stdout",
          "text": [
            "Epoch 8/50, Train Loss: 0.8714,           Validation Loss: 1.0602, Duration: 0:01:31.409285, Best Val Epoch: 1\n"
          ]
        },
        {
          "output_type": "stream",
          "name": "stderr",
          "text": [
            "\r 18%|█▊        | 9/50 [13:40<1:02:24, 91.34s/it]"
          ]
        },
        {
          "output_type": "stream",
          "name": "stdout",
          "text": [
            "Epoch 9/50, Train Loss: 0.8630,           Validation Loss: 1.0603, Duration: 0:01:31.332957, Best Val Epoch: 1\n"
          ]
        },
        {
          "output_type": "stream",
          "name": "stderr",
          "text": [
            "\r 20%|██        | 10/50 [15:11<1:00:55, 91.38s/it]"
          ]
        },
        {
          "output_type": "stream",
          "name": "stdout",
          "text": [
            "Epoch 10/50, Train Loss: 0.8550,           Validation Loss: 1.0577, Duration: 0:01:31.457384, Best Val Epoch: 1\n"
          ]
        },
        {
          "output_type": "stream",
          "name": "stderr",
          "text": [
            "\r 22%|██▏       | 11/50 [16:43<59:24, 91.39s/it]  "
          ]
        },
        {
          "output_type": "stream",
          "name": "stdout",
          "text": [
            "Epoch 11/50, Train Loss: 0.8488,           Validation Loss: 1.0616, Duration: 0:01:31.406750, Best Val Epoch: 1\n"
          ]
        },
        {
          "output_type": "stream",
          "name": "stderr",
          "text": [
            "\r 24%|██▍       | 12/50 [18:14<57:52, 91.38s/it]"
          ]
        },
        {
          "output_type": "stream",
          "name": "stdout",
          "text": [
            "Epoch 12/50, Train Loss: 0.8419,           Validation Loss: 1.0599, Duration: 0:01:31.362625, Best Val Epoch: 1\n"
          ]
        },
        {
          "output_type": "stream",
          "name": "stderr",
          "text": [
            "\r 26%|██▌       | 13/50 [19:46<56:19, 91.34s/it]"
          ]
        },
        {
          "output_type": "stream",
          "name": "stdout",
          "text": [
            "Epoch 13/50, Train Loss: 0.8358,           Validation Loss: 1.0843, Duration: 0:01:31.253586, Best Val Epoch: 1\n"
          ]
        },
        {
          "output_type": "stream",
          "name": "stderr",
          "text": [
            "\r 28%|██▊       | 14/50 [21:17<54:48, 91.36s/it]"
          ]
        },
        {
          "output_type": "stream",
          "name": "stdout",
          "text": [
            "Epoch 14/50, Train Loss: 0.8302,           Validation Loss: 1.0748, Duration: 0:01:31.385989, Best Val Epoch: 1\n"
          ]
        },
        {
          "output_type": "stream",
          "name": "stderr",
          "text": [
            "\r 30%|███       | 15/50 [22:48<53:17, 91.37s/it]"
          ]
        },
        {
          "output_type": "stream",
          "name": "stdout",
          "text": [
            "Epoch 15/50, Train Loss: 0.8260,           Validation Loss: 1.0721, Duration: 0:01:31.395961, Best Val Epoch: 1\n"
          ]
        },
        {
          "output_type": "stream",
          "name": "stderr",
          "text": [
            "\r 32%|███▏      | 16/50 [24:20<51:47, 91.39s/it]"
          ]
        },
        {
          "output_type": "stream",
          "name": "stdout",
          "text": [
            "Epoch 16/50, Train Loss: 0.8213,           Validation Loss: 1.1461, Duration: 0:01:31.442278, Best Val Epoch: 1\n"
          ]
        },
        {
          "output_type": "stream",
          "name": "stderr",
          "text": [
            "\r 34%|███▍      | 17/50 [25:51<50:16, 91.40s/it]"
          ]
        },
        {
          "output_type": "stream",
          "name": "stdout",
          "text": [
            "Epoch 17/50, Train Loss: 0.8158,           Validation Loss: 1.1204, Duration: 0:01:31.404361, Best Val Epoch: 1\n"
          ]
        },
        {
          "output_type": "stream",
          "name": "stderr",
          "text": [
            "\r 36%|███▌      | 18/50 [27:23<48:45, 91.41s/it]"
          ]
        },
        {
          "output_type": "stream",
          "name": "stdout",
          "text": [
            "Epoch 18/50, Train Loss: 0.8119,           Validation Loss: 1.1071, Duration: 0:01:31.437002, Best Val Epoch: 1\n"
          ]
        },
        {
          "output_type": "stream",
          "name": "stderr",
          "text": [
            "\r 38%|███▊      | 19/50 [28:54<47:12, 91.36s/it]"
          ]
        },
        {
          "output_type": "stream",
          "name": "stdout",
          "text": [
            "Epoch 19/50, Train Loss: 0.8078,           Validation Loss: 1.0961, Duration: 0:01:31.238415, Best Val Epoch: 1\n"
          ]
        },
        {
          "output_type": "stream",
          "name": "stderr",
          "text": [
            "\r 40%|████      | 20/50 [30:25<45:39, 91.30s/it]"
          ]
        },
        {
          "output_type": "stream",
          "name": "stdout",
          "text": [
            "Epoch 20/50, Train Loss: 0.8048,           Validation Loss: 1.0625, Duration: 0:01:31.165933, Best Val Epoch: 1\n"
          ]
        },
        {
          "output_type": "stream",
          "name": "stderr",
          "text": [
            "\r 42%|████▏     | 21/50 [31:56<44:08, 91.32s/it]"
          ]
        },
        {
          "output_type": "stream",
          "name": "stdout",
          "text": [
            "Epoch 21/50, Train Loss: 0.8003,           Validation Loss: 1.0668, Duration: 0:01:31.348720, Best Val Epoch: 1\n"
          ]
        },
        {
          "output_type": "stream",
          "name": "stderr",
          "text": [
            "\r 44%|████▍     | 22/50 [33:28<42:36, 91.32s/it]"
          ]
        },
        {
          "output_type": "stream",
          "name": "stdout",
          "text": [
            "Epoch 22/50, Train Loss: 0.7972,           Validation Loss: 1.0819, Duration: 0:01:31.322757, Best Val Epoch: 1\n"
          ]
        },
        {
          "output_type": "stream",
          "name": "stderr",
          "text": [
            "\r 46%|████▌     | 23/50 [34:59<41:05, 91.33s/it]"
          ]
        },
        {
          "output_type": "stream",
          "name": "stdout",
          "text": [
            "Epoch 23/50, Train Loss: 0.7939,           Validation Loss: 1.1220, Duration: 0:01:31.347046, Best Val Epoch: 1\n"
          ]
        },
        {
          "output_type": "stream",
          "name": "stderr",
          "text": [
            "\r 48%|████▊     | 24/50 [36:30<39:35, 91.36s/it]"
          ]
        },
        {
          "output_type": "stream",
          "name": "stdout",
          "text": [
            "Epoch 24/50, Train Loss: 0.7907,           Validation Loss: 1.1756, Duration: 0:01:31.437741, Best Val Epoch: 1\n"
          ]
        },
        {
          "output_type": "stream",
          "name": "stderr",
          "text": [
            "\r 50%|█████     | 25/50 [38:02<38:03, 91.34s/it]"
          ]
        },
        {
          "output_type": "stream",
          "name": "stdout",
          "text": [
            "Epoch 25/50, Train Loss: 0.7873,           Validation Loss: 1.1725, Duration: 0:01:31.272467, Best Val Epoch: 1\n"
          ]
        },
        {
          "output_type": "stream",
          "name": "stderr",
          "text": [
            "\r 52%|█████▏    | 26/50 [39:33<36:33, 91.38s/it]"
          ]
        },
        {
          "output_type": "stream",
          "name": "stdout",
          "text": [
            "Epoch 26/50, Train Loss: 0.7851,           Validation Loss: 1.1064, Duration: 0:01:31.473350, Best Val Epoch: 1\n"
          ]
        },
        {
          "output_type": "stream",
          "name": "stderr",
          "text": [
            "\r 54%|█████▍    | 27/50 [41:05<35:01, 91.37s/it]"
          ]
        },
        {
          "output_type": "stream",
          "name": "stdout",
          "text": [
            "Epoch 27/50, Train Loss: 0.7817,           Validation Loss: 1.0729, Duration: 0:01:31.354321, Best Val Epoch: 1\n"
          ]
        },
        {
          "output_type": "stream",
          "name": "stderr",
          "text": [
            "\r 56%|█████▌    | 28/50 [42:36<33:30, 91.38s/it]"
          ]
        },
        {
          "output_type": "stream",
          "name": "stdout",
          "text": [
            "Epoch 28/50, Train Loss: 0.7793,           Validation Loss: 1.1392, Duration: 0:01:31.405226, Best Val Epoch: 1\n"
          ]
        },
        {
          "output_type": "stream",
          "name": "stderr",
          "text": [
            "\r 58%|█████▊    | 29/50 [44:07<31:58, 91.37s/it]"
          ]
        },
        {
          "output_type": "stream",
          "name": "stdout",
          "text": [
            "Epoch 29/50, Train Loss: 0.7778,           Validation Loss: 1.1294, Duration: 0:01:31.339102, Best Val Epoch: 1\n"
          ]
        },
        {
          "output_type": "stream",
          "name": "stderr",
          "text": [
            "\r 60%|██████    | 30/50 [45:39<30:27, 91.38s/it]"
          ]
        },
        {
          "output_type": "stream",
          "name": "stdout",
          "text": [
            "Epoch 30/50, Train Loss: 0.7745,           Validation Loss: 1.1241, Duration: 0:01:31.396891, Best Val Epoch: 1\n"
          ]
        },
        {
          "output_type": "stream",
          "name": "stderr",
          "text": [
            "\r 62%|██████▏   | 31/50 [47:10<28:55, 91.35s/it]"
          ]
        },
        {
          "output_type": "stream",
          "name": "stdout",
          "text": [
            "Epoch 31/50, Train Loss: 0.7721,           Validation Loss: 1.0985, Duration: 0:01:31.296452, Best Val Epoch: 1\n"
          ]
        },
        {
          "output_type": "stream",
          "name": "stderr",
          "text": [
            "\r 64%|██████▍   | 32/50 [48:41<27:24, 91.34s/it]"
          ]
        },
        {
          "output_type": "stream",
          "name": "stdout",
          "text": [
            "Epoch 32/50, Train Loss: 0.7697,           Validation Loss: 1.1471, Duration: 0:01:31.289965, Best Val Epoch: 1\n"
          ]
        },
        {
          "output_type": "stream",
          "name": "stderr",
          "text": [
            "\r 66%|██████▌   | 33/50 [50:13<25:53, 91.37s/it]"
          ]
        },
        {
          "output_type": "stream",
          "name": "stdout",
          "text": [
            "Epoch 33/50, Train Loss: 0.7680,           Validation Loss: 1.1151, Duration: 0:01:31.432241, Best Val Epoch: 1\n"
          ]
        },
        {
          "output_type": "stream",
          "name": "stderr",
          "text": [
            "\r 68%|██████▊   | 34/50 [51:44<24:22, 91.39s/it]"
          ]
        },
        {
          "output_type": "stream",
          "name": "stdout",
          "text": [
            "Epoch 34/50, Train Loss: 0.7648,           Validation Loss: 1.1038, Duration: 0:01:31.440792, Best Val Epoch: 1\n"
          ]
        },
        {
          "output_type": "stream",
          "name": "stderr",
          "text": [
            "\r 70%|███████   | 35/50 [53:16<22:51, 91.41s/it]"
          ]
        },
        {
          "output_type": "stream",
          "name": "stdout",
          "text": [
            "Epoch 35/50, Train Loss: 0.7636,           Validation Loss: 1.0776, Duration: 0:01:31.474563, Best Val Epoch: 1\n"
          ]
        },
        {
          "output_type": "stream",
          "name": "stderr",
          "text": [
            "\r 72%|███████▏  | 36/50 [54:47<21:19, 91.37s/it]"
          ]
        },
        {
          "output_type": "stream",
          "name": "stdout",
          "text": [
            "Epoch 36/50, Train Loss: 0.7611,           Validation Loss: 1.1003, Duration: 0:01:31.254975, Best Val Epoch: 1\n"
          ]
        },
        {
          "output_type": "stream",
          "name": "stderr",
          "text": [
            "\r 74%|███████▍  | 37/50 [56:18<19:47, 91.31s/it]"
          ]
        },
        {
          "output_type": "stream",
          "name": "stdout",
          "text": [
            "Epoch 37/50, Train Loss: 0.7589,           Validation Loss: 1.0825, Duration: 0:01:31.183753, Best Val Epoch: 1\n"
          ]
        },
        {
          "output_type": "stream",
          "name": "stderr",
          "text": [
            "\r 76%|███████▌  | 38/50 [57:50<18:16, 91.35s/it]"
          ]
        },
        {
          "output_type": "stream",
          "name": "stdout",
          "text": [
            "Epoch 38/50, Train Loss: 0.7575,           Validation Loss: 1.0701, Duration: 0:01:31.422314, Best Val Epoch: 1\n"
          ]
        },
        {
          "output_type": "stream",
          "name": "stderr",
          "text": [
            "\r 78%|███████▊  | 39/50 [59:21<16:44, 91.36s/it]"
          ]
        },
        {
          "output_type": "stream",
          "name": "stdout",
          "text": [
            "Epoch 39/50, Train Loss: 0.7559,           Validation Loss: 1.0790, Duration: 0:01:31.373903, Best Val Epoch: 1\n"
          ]
        },
        {
          "output_type": "stream",
          "name": "stderr",
          "text": [
            "\r 80%|████████  | 40/50 [1:00:52<15:13, 91.34s/it]"
          ]
        },
        {
          "output_type": "stream",
          "name": "stdout",
          "text": [
            "Epoch 40/50, Train Loss: 0.7548,           Validation Loss: 1.1110, Duration: 0:01:31.314794, Best Val Epoch: 1\n"
          ]
        },
        {
          "output_type": "stream",
          "name": "stderr",
          "text": [
            "\r 82%|████████▏ | 41/50 [1:02:23<13:41, 91.32s/it]"
          ]
        },
        {
          "output_type": "stream",
          "name": "stdout",
          "text": [
            "Epoch 41/50, Train Loss: 0.7530,           Validation Loss: 1.1201, Duration: 0:01:31.253821, Best Val Epoch: 1\n"
          ]
        },
        {
          "output_type": "stream",
          "name": "stderr",
          "text": [
            "\r 84%|████████▍ | 42/50 [1:03:55<12:10, 91.33s/it]"
          ]
        },
        {
          "output_type": "stream",
          "name": "stdout",
          "text": [
            "Epoch 42/50, Train Loss: 0.7505,           Validation Loss: 1.0750, Duration: 0:01:31.359536, Best Val Epoch: 1\n"
          ]
        },
        {
          "output_type": "stream",
          "name": "stderr",
          "text": [
            "\r 86%|████████▌ | 43/50 [1:05:26<10:39, 91.35s/it]"
          ]
        },
        {
          "output_type": "stream",
          "name": "stdout",
          "text": [
            "Epoch 43/50, Train Loss: 0.7491,           Validation Loss: 1.0676, Duration: 0:01:31.384864, Best Val Epoch: 1\n"
          ]
        },
        {
          "output_type": "stream",
          "name": "stderr",
          "text": [
            "\r 88%|████████▊ | 44/50 [1:06:58<09:08, 91.34s/it]"
          ]
        },
        {
          "output_type": "stream",
          "name": "stdout",
          "text": [
            "Epoch 44/50, Train Loss: 0.7485,           Validation Loss: 1.0872, Duration: 0:01:31.319922, Best Val Epoch: 1\n"
          ]
        },
        {
          "output_type": "stream",
          "name": "stderr",
          "text": [
            "\r 90%|█████████ | 45/50 [1:08:29<07:36, 91.32s/it]"
          ]
        },
        {
          "output_type": "stream",
          "name": "stdout",
          "text": [
            "Epoch 45/50, Train Loss: 0.7454,           Validation Loss: 1.1220, Duration: 0:01:31.281929, Best Val Epoch: 1\n"
          ]
        },
        {
          "output_type": "stream",
          "name": "stderr",
          "text": [
            "\r 92%|█████████▏| 46/50 [1:10:00<06:05, 91.32s/it]"
          ]
        },
        {
          "output_type": "stream",
          "name": "stdout",
          "text": [
            "Epoch 46/50, Train Loss: 0.7444,           Validation Loss: 1.0735, Duration: 0:01:31.321453, Best Val Epoch: 1\n"
          ]
        },
        {
          "output_type": "stream",
          "name": "stderr",
          "text": [
            "\r 94%|█████████▍| 47/50 [1:11:31<04:33, 91.30s/it]"
          ]
        },
        {
          "output_type": "stream",
          "name": "stdout",
          "text": [
            "Epoch 47/50, Train Loss: 0.7432,           Validation Loss: 1.0789, Duration: 0:01:31.254223, Best Val Epoch: 1\n"
          ]
        },
        {
          "output_type": "stream",
          "name": "stderr",
          "text": [
            "\r 96%|█████████▌| 48/50 [1:13:03<03:02, 91.31s/it]"
          ]
        },
        {
          "output_type": "stream",
          "name": "stdout",
          "text": [
            "Epoch 48/50, Train Loss: 0.7417,           Validation Loss: 1.0768, Duration: 0:01:31.319635, Best Val Epoch: 1\n"
          ]
        },
        {
          "output_type": "stream",
          "name": "stderr",
          "text": [
            "\r 98%|█████████▊| 49/50 [1:14:34<01:31, 91.31s/it]"
          ]
        },
        {
          "output_type": "stream",
          "name": "stdout",
          "text": [
            "Epoch 49/50, Train Loss: 0.7402,           Validation Loss: 1.0681, Duration: 0:01:31.303125, Best Val Epoch: 1\n"
          ]
        },
        {
          "output_type": "stream",
          "name": "stderr",
          "text": [
            "100%|██████████| 50/50 [1:16:05<00:00, 91.32s/it]"
          ]
        },
        {
          "output_type": "stream",
          "name": "stdout",
          "text": [
            "Epoch 50/50, Train Loss: 0.7382,           Validation Loss: 1.0731, Duration: 0:01:31.417149, Best Val Epoch: 1\n"
          ]
        },
        {
          "output_type": "stream",
          "name": "stderr",
          "text": [
            "\n"
          ]
        }
      ],
      "source": [
        "train_losses, val_losses = batch_gd(model, criterion, optimizer,\n",
        "                                    train_loader, val_loader, epochs=50)"
      ],
      "id": "lU83newH0tbT"
    },
    {
      "cell_type": "code",
      "execution_count": null,
      "metadata": {
        "id": "SSs-9ZgF0tbU",
        "outputId": "19b29556-58bc-40ba-b15c-1cbf9eac98c3",
        "colab": {
          "base_uri": "https://localhost:8080/",
          "height": 451
        }
      },
      "outputs": [
        {
          "output_type": "execute_result",
          "data": {
            "text/plain": [
              "<matplotlib.legend.Legend at 0x7f8696cbbca0>"
            ]
          },
          "metadata": {},
          "execution_count": 23
        },
        {
          "output_type": "display_data",
          "data": {
            "text/plain": [
              "<Figure size 1500x600 with 1 Axes>"
            ],
            "image/png": "[encoded data removed]"
          },
          "metadata": {}
        }
      ],
      "source": [
        "plt.figure(figsize=(15,6))\n",
        "plt.plot(train_losses, label='train loss')\n",
        "plt.plot(val_losses, label='validation loss')\n",
        "plt.legend()"
      ],
      "id": "SSs-9ZgF0tbU"
    },
    {
      "cell_type": "markdown",
      "metadata": {
        "id": "hiSGEVlG0tbV"
      },
      "source": [
        "# Model Testing"
      ],
      "id": "hiSGEVlG0tbV"
    },
    {
      "cell_type": "code",
      "source": [
        "model = torch.load('best_val_model_pytorch')\n",
        "\n",
        "n_correct = 0.\n",
        "n_total = 0.\n",
        "for inputs, targets in val_loader:\n",
        "    # Move to GPU\n",
        "    inputs, targets = inputs.to(device, dtype=torch.float), targets.to(device, dtype=torch.int64)\n",
        "\n",
        "    # Forward pass\n",
        "    outputs = model(inputs)\n",
        "\n",
        "    # Get prediction\n",
        "    # torch.max returns both max and argmax\n",
        "    _, predictions = torch.max(outputs, 1)\n",
        "\n",
        "    # update counts\n",
        "    n_correct += (predictions == targets).sum().item()\n",
        "    n_total += targets.shape[0]\n",
        "\n",
        "test_acc = n_correct / n_total\n",
        "print(f\"Test acc: {test_acc:.4f}\")"
      ],
      "metadata": {
        "colab": {
          "base_uri": "https://localhost:8080/"
        },
        "id": "mtJoSfE5fJUG",
        "outputId": "dfac12c6-6d44-4e0f-d80d-3d9826dff261"
      },
      "id": "mtJoSfE5fJUG",
      "execution_count": null,
      "outputs": [
        {
          "output_type": "stream",
          "name": "stdout",
          "text": [
            "Test acc: 0.5058\n"
          ]
        }
      ]
    },
    {
      "cell_type": "code",
      "source": [
        "batch_size=64\n",
        "test_data=np.expand_dims(np.load('/content/Test/content/2023/11-12_2023_BTCUSDT_1m_DATA.npy'), axis=1)\n",
        "test_lbls=np.load('/content/Test/content/2023/11-12_2023_BTCUSDT_1m_LBLS.npy')\n",
        "test_loader = DataLoader(TensorDataset(torch.tensor(test_data[:test_lbls.shape[0]],dtype=torch.float32),\n",
        "                                    torch.tensor(test_lbls, dtype=torch.float32)),\n",
        "                                    batch_size=batch_size, shuffle=False) #drop_last=True)"
      ],
      "metadata": {
        "id": "iTIsj7jPfNha"
      },
      "id": "iTIsj7jPfNha",
      "execution_count": null,
      "outputs": []
    },
    {
      "cell_type": "code",
      "execution_count": null,
      "metadata": {
        "id": "SVimgg730tbW"
      },
      "outputs": [],
      "source": [
        "model = torch.load('best_val_model_pytorch')\n",
        "\n",
        "n_correct = 0.\n",
        "n_total = 0.\n",
        "for inputs, targets in test_loader:\n",
        "    # Move to GPU\n",
        "    inputs, targets = inputs.to(device, dtype=torch.float), targets.to(device, dtype=torch.int64)\n",
        "\n",
        "    # Forward pass\n",
        "    outputs = model(inputs)\n",
        "\n",
        "    # Get prediction\n",
        "    # torch.max returns both max and argmax\n",
        "    _, predictions = torch.max(outputs, 1)\n",
        "\n",
        "    # update counts\n",
        "    n_correct += (predictions == targets).sum().item()\n",
        "    n_total += targets.shape[0]\n",
        "\n",
        "test_acc = n_correct / n_total\n",
        "print(f\"Test acc: {test_acc:.4f}\")"
      ],
      "id": "SVimgg730tbW"
    },
    {
      "cell_type": "code",
      "source": [
        "all_targets = []\n",
        "all_predictions = []\n",
        "\n",
        "for inputs, targets in test_loader:\n",
        "    # Move to GPU\n",
        "    inputs, targets = inputs.to(device, dtype=torch.float), targets.to(device, dtype=torch.int64)\n",
        "\n",
        "    # Forward pass\n",
        "    outputs = model(inputs)\n",
        "\n",
        "    # Get prediction\n",
        "    # torch.max returns both max and argmax\n",
        "    _, predictions = torch.max(outputs, 1)\n",
        "\n",
        "    all_targets.append(targets.cpu().numpy())\n",
        "    all_predictions.append(predictions.cpu().numpy())\n",
        "\n",
        "all_targets = np.concatenate(all_targets)\n",
        "all_predictions = np.concatenate(all_predictions)"
      ],
      "metadata": {
        "id": "Enksqhse2jvd"
      },
      "id": "Enksqhse2jvd",
      "execution_count": null,
      "outputs": []
    },
    {
      "cell_type": "code",
      "execution_count": null,
      "metadata": {
        "scrolled": true,
        "id": "HWOI2aju0tbX"
      },
      "outputs": [],
      "source": [
        "print('accuracy_score:', accuracy_score(all_targets, all_predictions))\n",
        "print(classification_report(all_targets, all_predictions, digits=4))"
      ],
      "id": "HWOI2aju0tbX"
    }
  ],
  "metadata": {
    "kernelspec": {
      "display_name": "Python 3",
      "name": "python3"
    },
    "language_info": {
      "codemirror_mode": {
        "name": "ipython",
        "version": 3
      },
      "file_extension": ".py",
      "mimetype": "text/x-python",
      "name": "python",
      "nbconvert_exporter": "python",
      "pygments_lexer": "ipython3",
      "version": "3.6.12"
    },
    "colab": {
      "provenance": [],
      "machine_shape": "hm",
      "gpuType": "T4"
    },
    "accelerator": "GPU"
  },
  "nbformat": 4,
  "nbformat_minor": 5
}